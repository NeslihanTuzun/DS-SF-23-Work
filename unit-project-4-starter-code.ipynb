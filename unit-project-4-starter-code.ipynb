{
 "cells": [
  {
   "cell_type": "markdown",
   "metadata": {},
   "source": [
    "# SF-DAT-21 | Unit Project 4\n",
    "\n",
    "In this project, you will summarize and present your analysis from Unit Projects 1-3."
   ]
  },
  {
   "cell_type": "markdown",
   "metadata": {},
   "source": [
    "### Question 1. Introduction: Write a problem Statement/Specific Aim for this project."
   ]
  },
  {
   "cell_type": "markdown",
   "metadata": {},
   "source": [
    "Answer: This project will determine how variables, such as GRE (Graduate Record Exam scores), GPA (grade point average) and prestige of the undergraduate institution, effect admission into graduate school.  The goal is to use GPA, GRE and undergraduate institution to predict admission into graduate school.\n",
    "The response variable, admit/don't admit, is a binary variable(0/1); admitted or not admitted. Logistic regression based on GRE, GPA and prestige of the undergraduate institution. Multinomial logistic regression is used to model nominal outcome variables, in which the log odds of the outcomes are modeled as a linear combination of the predictor variables.\n"
   ]
  },
  {
   "cell_type": "markdown",
   "metadata": {},
   "source": [
    "### Question 2. Dataset: Write up a description of your data and any cleaning that was completed."
   ]
  },
  {
   "cell_type": "markdown",
   "metadata": {},
   "source": [
    "Answer: The dataset has a binary response variable called admit. There are three predictor variables: gre, gpa and prestige. GRE and GPA are continuous variables. The variable prestige takes on the values 1 through 4. Institutions with a prestige of 1 have the highest prestige, while those with a rank of 1 have the lowest. Create dummy variables for prestige that has four levels: 1, 2, 3 and 4 (1 being most prestigious). New dataframe will get a dataframe with four columns, each of which describes one of those levels. Once that's done, merging the new dummy columns into the original dataset and get rid of the prestige column which we no longer need."
   ]
  },
  {
   "cell_type": "markdown",
   "metadata": {
    "collapsed": true
   },
   "source": [
    "### Question 3. Demo: Provide a table that explains the data by admission status."
   ]
  },
  {
   "cell_type": "markdown",
   "metadata": {},
   "source": [
    "Mean (STD) or counts by admission status for each variable\n",
    "\n",
    "| Not Admitted | Admitted\n",
    "---| ---|---\n",
    "GPA | mean(std) | 0.023(0.001)\n",
    "GRE |mean(std) | 0.8040(0.332)\n",
    "Prestige 1 | 28(%) | 33(%)\n",
    "Prestige 2 | 97(%) | 54(%)\n",
    "Prestige 3 | 93(%) | 28(%)\n",
    "Prestige 4 | 55(%) | 12(%)"
   ]
  },
  {
   "cell_type": "markdown",
   "metadata": {},
   "source": [
    "### Question 4. Methods: Write up the methods used in your analysis."
   ]
  },
  {
   "cell_type": "markdown",
   "metadata": {},
   "source": [
    "Answer: Summary Statistics - Drop data points with missing data- Exploratary Analysis(mean,median, mode, std,variance, IQR) - Create Box Plots, Histograms - Create dummy variables - Prediction Analysis"
   ]
  },
  {
   "cell_type": "markdown",
   "metadata": {},
   "source": [
    "### Question 5. Results: Write up your results."
   ]
  },
  {
   "cell_type": "markdown",
   "metadata": {},
   "source": [
    "Answer: The results is how gre, gpa, and prestige affect the admission levels. You can see how the probability of admission gradually increases as gre and gpa increase and that the different prestige levels yield drastic probabilities of admission (particularly the most/least prestigious schools)."
   ]
  },
  {
   "cell_type": "markdown",
   "metadata": {},
   "source": [
    "### Question 6. Visuals: Provide a table or visualization of these results."
   ]
  },
  {
   "cell_type": "code",
   "execution_count": null,
   "metadata": {
    "collapsed": true
   },
   "outputs": [],
   "source": [
    "def isolate_and_plot(variable):\n",
    "    # isolate gre and class rank\n",
    "    grouped = pd.pivot_table(combos, values=['admit_pred'], index=[variable, 'prestige'],\n",
    "                            aggfunc=np.mean)\n",
    "    \n",
    "    # in case you're curious as to what this looks like\n",
    "    # print grouped.head()\n",
    "    #                      admit_pred\n",
    "    # gre        prestige            \n",
    "    # 220.000000 1           0.282462\n",
    "    #            2           0.169987\n",
    "    #            3           0.096544\n",
    "    #            4           0.079859\n",
    "    # 284.444444 1           0.311718\n",
    "    \n",
    "    # make a plot\n",
    "    colors = 'rbgyrbgy'\n",
    "    for col in combos.prestige.unique():\n",
    "        plt_data = grouped.ix[grouped.index.get_level_values(1)==col]\n",
    "        pl.plot(plt_data.index.get_level_values(0), plt_data['admit_pred'],\n",
    "                color=colors[int(col)])\n",
    "\n",
    "    pl.xlabel(variable)\n",
    "    pl.ylabel(\"P(admit=1)\")\n",
    "    pl.legend(['1', '2', '3', '4'], loc='upper left', title='Prestige')\n",
    "    pl.title(\"Prob(admit=1) isolating \" + variable + \" and presitge\")\n",
    "    pl.show()\n",
    "\n",
    "isolate_and_plot('gre')\n",
    "isolate_and_plot('gpa')"
   ]
  },
  {
   "cell_type": "markdown",
   "metadata": {},
   "source": [
    "### question 7. Discussion: Write up your discussion and future steps."
   ]
  },
  {
   "cell_type": "markdown",
   "metadata": {},
   "source": [
    "Answer: Future steps could be desicion trees and random forests in order to explore the results."
   ]
  }
 ],
 "metadata": {
  "kernelspec": {
   "display_name": "Python 2",
   "language": "python",
   "name": "python2"
  },
  "language_info": {
   "codemirror_mode": {
    "name": "ipython",
    "version": 2
   },
   "file_extension": ".py",
   "mimetype": "text/x-python",
   "name": "python",
   "nbconvert_exporter": "python",
   "pygments_lexer": "ipython2",
   "version": "2.7.11"
  }
 },
 "nbformat": 4,
 "nbformat_minor": 0
}
